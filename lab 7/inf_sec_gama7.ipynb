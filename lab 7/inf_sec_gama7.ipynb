{
  "nbformat": 4,
  "nbformat_minor": 0,
  "metadata": {
    "colab": {
      "provenance": []
    },
    "kernelspec": {
      "name": "python3",
      "display_name": "Python 3"
    },
    "language_info": {
      "name": "python"
    }
  },
  "cells": [
    {
      "cell_type": "code",
      "execution_count": 22,
      "metadata": {
        "id": "cxptJg3ip29S"
      },
      "outputs": [],
      "source": [
        "import string\n",
        "import random\n",
        "\n",
        "def f_hkey(text):\n",
        "  return ' '.join(hex(ord(i))[2:] for i in text)\n",
        "\n",
        "def f_key(size):\n",
        "  return ''.join(random.choice(string.ascii_letters+string.digits) for _ in range(size))\n",
        "\n",
        "def enscryption(text, key):\n",
        "  return ''.join(chr(a^b) for a,b in zip (text, key))\n",
        "\n",
        "def decryption(text, encrypt):\n",
        "  return ''.join(chr(a^b) for a,b in zip (text, encrypt))"
      ]
    },
    {
      "cell_type": "code",
      "source": [
        "#message = 'С Новым Годом, друзья!'\n",
        "message = (input(\"Введите сообщение: \"))\n",
        "\n",
        "key = f_key(len(message))\n",
        "hex_key = f_hkey(key)\n",
        "print(\"Используемый ключ: \", key)\n",
        "print(\"Ключ в шестнадцатиричносм виде: \", hex_key)\n",
        "\n",
        "encrypt = enscryption([ord(i) for i in message], [ord(i) for i in key])\n",
        "hex_encrypt = f_hkey(encrypt)\n",
        "print(\"Зашифрованное сообщение\", hex_encrypt)\n",
        "\n",
        "decrypt = enscryption([ord(i) for i in encrypt], [ord(i) for i in key])\n",
        "print(\"Расшифрованное сообщение\", decrypt)"
      ],
      "metadata": {
        "colab": {
          "base_uri": "https://localhost:8080/"
        },
        "id": "Cr96oWqhro4t",
        "outputId": "b8cca183-ba67-4c5e-cf5c-e86263800fcd"
      },
      "execution_count": 23,
      "outputs": [
        {
          "output_type": "stream",
          "name": "stdout",
          "text": [
            "Введите сообщение: С Новым Годом, друзья!\n",
            "Используемый ключ:  xgSgFPPeQu9PkAMfVwwnkq\n",
            "Ключ в шестнадцатиричносм виде:  78 67 53 67 46 50 50 65 51 75 39 50 6b 41 4d 66 56 77 77 6e 6b 71\n",
            "Зашифрованное сообщение 459 47 44e 459 474 41b 46c 45 442 44b 40d 46e 457 6d 6d 452 416 434 440 422 424 50\n",
            "Расшифрованное сообщение С Новым Годом, друзья!\n"
          ]
        }
      ]
    },
    {
      "cell_type": "code",
      "source": [
        "compute_key = decryption([ord(i) for i in message], [ord(i) for i in encrypt])\n",
        "decrypt_compute_key = enscryption([ord(i) for i in encrypt], [ord(i) for i in key])\n",
        "print(\"Исходный ключ: \", key)\n",
        "print(\"Расшифровка открытого текста\", decrypt_compute_key)"
      ],
      "metadata": {
        "colab": {
          "base_uri": "https://localhost:8080/"
        },
        "id": "hlP-jxQatEmz",
        "outputId": "976dd428-0893-4c73-d5fe-1d032fdba755"
      },
      "execution_count": 24,
      "outputs": [
        {
          "output_type": "stream",
          "name": "stdout",
          "text": [
            "Исходный ключ:  xgSgFPPeQu9PkAMfVwwnkq\n",
            "Расшифровка открытого текста С Новым Годом, друзья!\n"
          ]
        }
      ]
    },
    {
      "cell_type": "code",
      "source": [],
      "metadata": {
        "id": "Zm_PSimb2LZQ"
      },
      "execution_count": null,
      "outputs": []
    }
  ]
}